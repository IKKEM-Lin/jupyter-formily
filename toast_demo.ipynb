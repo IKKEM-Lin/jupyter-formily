{
 "cells": [
  {
   "cell_type": "markdown",
   "metadata": {},
   "source": [
    "# Toast Demo"
   ]
  },
  {
   "cell_type": "code",
   "execution_count": null,
   "metadata": {
    "tags": []
   },
   "outputs": [],
   "source": [
    "# Toast example\n",
    "from jupyter_formily.toast import Toast"
   ]
  },
  {
   "cell_type": "markdown",
   "metadata": {},
   "source": [
    "**Usage**\n",
    "\n",
    "```python\n",
    "Toast(type, content, options, on_confirm).display()\n",
    "```\n",
    "\n",
    "| param               | Type                                                                                                                                                                                                                                                                                                      | Default value |\n",
    "| ----------------- | --------------------------------------------------------------------------------------------------------------------------------------------------------------------------------------------------------------------------------------------------------------------------------------------------------- | ------------- |\n",
    "| type              | Enum(\"info\", \"success\", \"error\", \"warning\", \"confirm\")                                                                                                                                                                                                                                                    | \"info\"        |\n",
    "| content           | string                                                                                                                                                                                                                                                                                                    | \"\"            |\n",
    "| options.component | Enum(\"notification\", \"message\", \"modal\")                                                                                                                                                                                                                                                                  | \"message\"     |\n",
    "| options.props     | Base on options.component: <br>{<br>\"message\": [props](https://ant-design.antgroup.com/components/message-cn#api),<br>\"notification\": [props](https://ant-design.antgroup.com/components/notification-cn#api),<br>\"modal\": [props](https://ant-design.antgroup.com/components/modal-cn#modalmethod),<br>} | {}            |\n",
    "| options.config    | Base on options.component: <br>{<br>\"message\": [config](https://ant-design.antgroup.com/components/message-cn#messageconfig),<br>\"notification\": [config](https://ant-design.antgroup.com/components/notification-cn#notificationconfig),<br>}                                                            | {}            |\n",
    "| on_confirm        | Function                                                                                                                                                                                                                                                                                                  | `lambda x: x` |"
   ]
  },
  {
   "cell_type": "markdown",
   "metadata": {
    "tags": []
   },
   "source": [
    "## Message"
   ]
  },
  {
   "cell_type": "code",
   "execution_count": null,
   "metadata": {
    "tags": []
   },
   "outputs": [],
   "source": [
    "Toast(\"success\", \"This is success example\").display()"
   ]
  },
  {
   "cell_type": "code",
   "execution_count": null,
   "metadata": {
    "tags": []
   },
   "outputs": [],
   "source": [
    "Toast(\"info\", \"This is info example\", {\n",
    "    \"component\": \"message\", \n",
    "    \"props\": {\n",
    "        \"duration\": 6,\n",
    "        \"style\": {\"font-weight\": \"bold\"}\n",
    "    }, \n",
    "    \"config\": {\n",
    "      \"top\": 100,\n",
    "      \"duration\": 2,\n",
    "      # \"maxCount\": 2,\n",
    "    }\n",
    "}).display()"
   ]
  },
  {
   "cell_type": "markdown",
   "metadata": {
    "tags": []
   },
   "source": [
    "## Notification"
   ]
  },
  {
   "cell_type": "code",
   "execution_count": null,
   "metadata": {},
   "outputs": [],
   "source": [
    "Toast(\"success\", \"This is success example\", {\"component\": \"notification\"}).display()"
   ]
  },
  {
   "cell_type": "code",
   "execution_count": null,
   "metadata": {
    "tags": []
   },
   "outputs": [],
   "source": [
    "Toast(\"warning\", \"This is warning example\", {\n",
    "    \"component\": \"notification\", \n",
    "    \"props\": {\n",
    "        \"closeIcon\": False,\n",
    "        \"duration\": 10,\n",
    "        \"message\": \"Custom Message\",\n",
    "        \"placement\": \"bottomRight\", # topLeft | topRight | bottomLeft | bottomRight\n",
    "        \"style\": {\"background-color\": \"#caf9f9\"}\n",
    "    }, \n",
    "    \"config\": {\n",
    "        \"bottom\": 48,\n",
    "        \"top\": 48,\n",
    "    }\n",
    "}).display()"
   ]
  },
  {
   "cell_type": "markdown",
   "metadata": {
    "tags": []
   },
   "source": [
    "## Modal"
   ]
  },
  {
   "cell_type": "code",
   "execution_count": null,
   "metadata": {},
   "outputs": [],
   "source": [
    "Toast(\"success\", \"This is success example\", {\"component\": \"modal\"}).display()"
   ]
  },
  {
   "cell_type": "code",
   "execution_count": null,
   "metadata": {},
   "outputs": [],
   "source": [
    "Toast(\"error\", \"This is warning example\", {\n",
    "    \"component\": \"modal\", \n",
    "    \"props\": {\n",
    "        \"centered\": True,\n",
    "        \"closeIcon\": False,\n",
    "        \"keyboard\": False,\n",
    "        \"mask\": True,\n",
    "        \"maskClosable\": False,\n",
    "        \"okText\": \"Yes\",\n",
    "        \"title\": \"Title\",\n",
    "        \"width\": \"50vw\",\n",
    "        \"style\": {\"max-width\": \"400px\"}\n",
    "    }\n",
    "}).display()"
   ]
  },
  {
   "cell_type": "markdown",
   "metadata": {},
   "source": [
    "### Modal confirm"
   ]
  },
  {
   "cell_type": "code",
   "execution_count": null,
   "metadata": {
    "tags": []
   },
   "outputs": [],
   "source": [
    "def on_confirm(change):\n",
    "    confirm_example.content = \"confirmed\"\n",
    "confirm_example = Toast(\"confirm\", \"This is confirm example\", on_confirm = on_confirm)\n",
    "display(confirm_example)\n",
    "print(confirm_example.content)"
   ]
  },
  {
   "cell_type": "code",
   "execution_count": null,
   "metadata": {
    "tags": []
   },
   "outputs": [],
   "source": [
    "print(confirm_example.content)\n",
    "display(confirm_example)"
   ]
  }
 ],
 "metadata": {
  "kernelspec": {
   "display_name": "Python 3 (ipykernel)",
   "language": "python",
   "name": "python3"
  },
  "language_info": {
   "codemirror_mode": {
    "name": "ipython",
    "version": 3
   },
   "file_extension": ".py",
   "mimetype": "text/x-python",
   "name": "python",
   "nbconvert_exporter": "python",
   "pygments_lexer": "ipython3",
   "version": "3.8.18"
  }
 },
 "nbformat": 4,
 "nbformat_minor": 4
}
