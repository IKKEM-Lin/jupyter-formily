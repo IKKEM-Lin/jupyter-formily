{
 "cells": [
  {
   "cell_type": "markdown",
   "metadata": {},
   "source": [
    "# Demo"
   ]
  },
  {
   "cell_type": "code",
   "execution_count": 13,
   "metadata": {},
   "outputs": [
    {
     "data": {
      "application/vnd.jupyter.widget-view+json": {
       "model_id": "c94a7c7676274c02ba9baf78374c5df5",
       "version_major": 2,
       "version_minor": 0
      },
      "text/plain": [
       "Formily(files=[{'name': '.git', 'isDir': True}, {'name': '.github', 'isDir': True}, {'name': '.ipynb_checkpoin…"
      ]
     },
     "metadata": {},
     "output_type": "display_data"
    }
   ],
   "source": [
    "# Formily example\n",
    "from jupyter_formily.formily import Formily\n",
    "        \n",
    "default_schema = {\n",
    "  \"type\": \"object\",\n",
    "  \"properties\": {\n",
    "    \"basic_set_file\": {\n",
    "      \"type\": \"string\",\n",
    "      \"title\": \"Basic set file\",\n",
    "      \"x-decorator\": \"FormItem\",\n",
    "      \"x-component\": \"FileSelectorForFormily\",\n",
    "      \"x-validator\": [],\n",
    "      \"x-component-props\": {\"label\": \"+\", \"init_path\": \"C:\\\\Users\"},\n",
    "      \"x-decorator-props\": {},\n",
    "      \"name\": \"basic_set_file\",\n",
    "      \"x-designable-id\": \"8j01zeibhn3\",\n",
    "      \"x-index\": 1\n",
    "    },\n",
    "    \"potential_file\": {\n",
    "      \"type\": \"string\",\n",
    "      \"title\": \"Potential file\",\n",
    "      \"x-decorator\": \"FormItem\",\n",
    "      \"x-component\": \"FileSelectorForFormily\",\n",
    "      \"x-validator\": [],\n",
    "      \"x-component-props\": {\"label\": \"+\"},\n",
    "      \"x-decorator-props\": {},\n",
    "      \"name\": \"potential_file\",\n",
    "      \"x-designable-id\": \"8j01zgrbhn3\",\n",
    "      \"x-index\": 2\n",
    "    },\n",
    "    \"xyz_file\": {\n",
    "      \"type\": \"string\",\n",
    "      \"title\": \"XYZ file\",\n",
    "      \"x-decorator\": \"FormItem\",\n",
    "      \"x-component\": \"FileSelectorForFormily\",\n",
    "      \"x-validator\": [],\n",
    "      \"x-component-props\": {\"label\": \"+\", \"init_path\": \"C:\\\\Users\\\\Mark-Lin\"},\n",
    "      \"x-decorator-props\": {},\n",
    "      \"name\": \"xyz_file\",\n",
    "      \"x-designable-id\": \"8j01znjbhn3\",\n",
    "      \"x-index\": 3\n",
    "    },\n",
    "    \"accuracy\": {\n",
    "      \"type\": \"string\",\n",
    "      \"title\": \"Accuracy\",\n",
    "      \"x-decorator\": \"FormItem\",\n",
    "      \"x-component\": \"Radio.Group\",\n",
    "      \"enum\": [\n",
    "        {\n",
    "          \"children\": [],\n",
    "          \"label\": \"high\",\n",
    "          \"value\": \"high\"\n",
    "        },\n",
    "        {\n",
    "          \"children\": [],\n",
    "          \"label\": \"medium\",\n",
    "          \"value\": \"medium\"\n",
    "        },\n",
    "        {\n",
    "          \"children\": [],\n",
    "          \"label\": \"low\",\n",
    "          \"value\": \"low\"\n",
    "        }\n",
    "      ],\n",
    "      \"x-validator\": [],\n",
    "      \"x-component-props\": {},\n",
    "      \"x-decorator-props\": {},\n",
    "      \"name\": \"accuracy\",\n",
    "      \"x-designable-id\": \"ddrtibho837\",\n",
    "      \"x-index\": 4\n",
    "    },\n",
    "    \"style\": {\n",
    "      \"type\": \"string\",\n",
    "      \"title\": \"Style\",\n",
    "      \"x-decorator\": \"FormItem\",\n",
    "      \"x-component\": \"Radio.Group\",\n",
    "      \"enum\": [\n",
    "        {\n",
    "          \"children\": [],\n",
    "          \"label\": \"solid\",\n",
    "          \"value\": \"solid\"\n",
    "        },\n",
    "        {\n",
    "          \"children\": [],\n",
    "          \"label\": \"liquid\",\n",
    "          \"value\": \"liquid\"\n",
    "        },\n",
    "        {\n",
    "          \"children\": [],\n",
    "          \"label\": \"gas\",\n",
    "          \"value\": \"gas\"\n",
    "        }\n",
    "      ],\n",
    "      \"x-validator\": [],\n",
    "      \"x-component-props\": {},\n",
    "      \"x-decorator-props\": {},\n",
    "      \"name\": \"style\",\n",
    "      \"x-designable-id\": \"8j01zxpbhn3\",\n",
    "      \"x-index\": 5\n",
    "    },\n",
    "    \"out_dir\": {\n",
    "      \"type\": \"string\",\n",
    "      \"title\": \"Out dir\",\n",
    "      \"x-decorator\": \"FormItem\",\n",
    "      \"x-component\": \"FileSelectorForFormily\",\n",
    "      \"x-validator\": [],\n",
    "      \"x-component-props\": {\"label\": \"+\", \"select_type\": \"folder\", \"init_path\": \"C:\\\\Users\\\\Mark-Lin\"},\n",
    "      \"x-decorator-props\": {},\n",
    "      \"name\": \"out_dir\",\n",
    "      \"x-designable-id\": \"8j01znjbhn3\",\n",
    "      \"x-index\": 6\n",
    "    },\n",
    "  }\n",
    "}\n",
    "\n",
    "# temp = Formily(default_schema, {\"show_modal\": False, \"ok_label\": \"OK\"})\n",
    "temp2 = Formily(default_schema, {\"show_modal\": True, \"ok_label\": \"Update\", \"cancel_label\": \"Cancel\"})\n",
    "# display(temp)\n",
    "display(temp2)"
   ]
  },
  {
   "cell_type": "code",
   "execution_count": 15,
   "metadata": {},
   "outputs": [
    {
     "name": "stdout",
     "output_type": "stream",
     "text": [
      "{'potential_file': 'C:\\\\Users\\\\Mark-Lin\\\\OneDrive\\\\desktop.ini', 'xyz_file': 'C:\\\\Users\\\\Mark-Lin\\\\.cursor\\\\extensions', 'accuracy': 'low', 'style': 'liquid', 'out_dir': 'C:\\\\Users\\\\Mark-Lin\\\\.cache'}\n"
     ]
    }
   ],
   "source": [
    "print(temp2.value)"
   ]
  },
  {
   "cell_type": "markdown",
   "metadata": {},
   "source": [
    "# Test code below, please ignore"
   ]
  },
  {
   "cell_type": "code",
   "execution_count": null,
   "metadata": {},
   "outputs": [],
   "source": [
    "import jupyter_formily\n",
    "\n",
    "basic_set_file = jupyter_formily.FileSelector(\"basic_set_file\")\n",
    "potential_file = jupyter_formily.FileSelector(\"potential_file\")\n",
    "xyz_file = jupyter_formily.FileSelector(\"xyz_file\")\n",
    "accuracy = jupyter_formily.Radio(\"accuracy: \", [\"high\", \"medium\", \"low\"], default_value = \"high\")\n",
    "style = jupyter_formily.Radio(\"style: \", [\"metal\", \"liquid\", \"gas\"], default_value = \"metal\")\n",
    "out_dir = jupyter_formily.FileSelector(\"out_dir\", dir_select = True)\n",
    "        \n",
    "display(basic_set_file)\n",
    "display(potential_file)\n",
    "display(xyz_file)\n",
    "display(accuracy)\n",
    "display(style)\n",
    "display(out_dir)"
   ]
  },
  {
   "cell_type": "code",
   "execution_count": null,
   "metadata": {},
   "outputs": [],
   "source": [
    "print(basic_set_file.value)\n",
    "print(potential_file.value)\n",
    "print(xyz_file.value)\n",
    "print(accuracy.value)\n",
    "print(style.value)\n",
    "print(out_dir.value)\n"
   ]
  }
 ],
 "metadata": {
  "kernelspec": {
   "display_name": "Python 3 (ipykernel)",
   "language": "python",
   "name": "python3"
  },
  "language_info": {
   "codemirror_mode": {
    "name": "ipython",
    "version": 3
   },
   "file_extension": ".py",
   "mimetype": "text/x-python",
   "name": "python",
   "nbconvert_exporter": "python",
   "pygments_lexer": "ipython3",
   "version": "3.11.4"
  }
 },
 "nbformat": 4,
 "nbformat_minor": 2
}
